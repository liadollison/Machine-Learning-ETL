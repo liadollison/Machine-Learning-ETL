{
 "cells": [
  {
   "cell_type": "code",
   "execution_count": 1,
   "id": "663874cc",
   "metadata": {},
   "outputs": [],
   "source": [
    "import findspark\n",
    "findspark.init()\n",
    "import pandas as pd"
   ]
  },
  {
   "cell_type": "code",
   "execution_count": 2,
   "id": "dc464eb2",
   "metadata": {},
   "outputs": [],
   "source": [
    "from pyspark.sql.session import SparkSession\n",
    "import pyspark.sql.functions as F"
   ]
  },
  {
   "cell_type": "code",
   "execution_count": 3,
   "id": "bd099d7d",
   "metadata": {},
   "outputs": [
    {
     "name": "stderr",
     "output_type": "stream",
     "text": [
      "WARNING: An illegal reflective access operation has occurred\n",
      "WARNING: Illegal reflective access by org.apache.spark.unsafe.Platform (file:/opt/spark3/jars/spark-unsafe_2.12-3.2.1.jar) to constructor java.nio.DirectByteBuffer(long,int)\n",
      "WARNING: Please consider reporting this to the maintainers of org.apache.spark.unsafe.Platform\n",
      "WARNING: Use --illegal-access=warn to enable warnings of further illegal reflective access operations\n",
      "WARNING: All illegal access operations will be denied in a future release\n",
      "Setting default log level to \"WARN\".\n",
      "To adjust logging level use sc.setLogLevel(newLevel). For SparkR, use setLogLevel(newLevel).\n"
     ]
    }
   ],
   "source": [
    "spark = (SparkSession.builder\n",
    ".appName(\"gas_prices_esp\")\n",
    ".config(\"spark.sql.group_assignment.dir\",\"hdfs://localhost:9000/raw/gas\")\n",
    ".getOrCreate())"
   ]
  },
  {
   "cell_type": "code",
   "execution_count": 4,
   "id": "c7370b1e",
   "metadata": {},
   "outputs": [
    {
     "name": "stderr",
     "output_type": "stream",
     "text": [
      "                                                                                \r"
     ]
    }
   ],
   "source": [
    "gasdf = spark.read \\\n",
    "             .option(\"inferSchema\", \"true\") \\\n",
    "             .option(\"header\", \"true\") \\\n",
    "             .parquet(\"hdfs://localhost:9000/datalake/raw/gas\")\n",
    "gasdf.createOrReplaceTempView(\"gas\")"
   ]
  },
  {
   "cell_type": "code",
   "execution_count": 6,
   "id": "bbb95a75",
   "metadata": {},
   "outputs": [],
   "source": [
    "df_2020 = gasdf.filter((F.col('date') >= '2020-01-01'))"
   ]
  },
  {
   "cell_type": "code",
   "execution_count": 8,
   "id": "7858792a",
   "metadata": {},
   "outputs": [],
   "source": [
    "df_2020_gas = df_2020.select('date', 'gasoline_95E5', 'diesel_A')"
   ]
  },
  {
   "cell_type": "code",
   "execution_count": 9,
   "id": "fd4d1013",
   "metadata": {},
   "outputs": [],
   "source": [
    "import pyspark.sql.functions as f\n",
    "df_year = df_2020_gas.withColumn('years',f.year(f.to_timestamp('date', 'yyyy/mm/dd')))"
   ]
  },
  {
   "cell_type": "code",
   "execution_count": 10,
   "id": "660e023b",
   "metadata": {},
   "outputs": [
    {
     "data": {
      "text/plain": [
       "<pyspark.sql.group.GroupedData at 0x7fa832fba5b0>"
      ]
     },
     "execution_count": 10,
     "metadata": {},
     "output_type": "execute_result"
    }
   ],
   "source": [
    "df_2020_gas.groupBy('years')"
   ]
  },
  {
   "cell_type": "code",
   "execution_count": 11,
   "id": "8fb2fc1d",
   "metadata": {},
   "outputs": [
    {
     "name": "stderr",
     "output_type": "stream",
     "text": [
      "[Stage 1:=====================================================>   (16 + 1) / 17]\r"
     ]
    },
    {
     "name": "stdout",
     "output_type": "stream",
     "text": [
      "+-----+---------------+\n",
      "|years|  avg(diesel_A)|\n",
      "+-----+---------------+\n",
      "| 2022|1.6685254980000|\n",
      "| 2020|1.0721183860000|\n",
      "| 2021|1.2416919210000|\n",
      "+-----+---------------+\n",
      "\n"
     ]
    },
    {
     "name": "stderr",
     "output_type": "stream",
     "text": [
      "                                                                                \r"
     ]
    }
   ],
   "source": [
    "df_year.groupBy('years').avg('diesel_A').show()"
   ]
  },
  {
   "cell_type": "code",
   "execution_count": 12,
   "id": "64daf03c",
   "metadata": {},
   "outputs": [
    {
     "name": "stderr",
     "output_type": "stream",
     "text": [
      "[Stage 4:=====================================================>   (16 + 1) / 17]\r"
     ]
    },
    {
     "name": "stdout",
     "output_type": "stream",
     "text": [
      "+-----+------------------+\n",
      "|years|avg(gasoline_95E5)|\n",
      "+-----+------------------+\n",
      "| 2022|   1.7221337380000|\n",
      "| 2020|   1.1747384890000|\n",
      "| 2021|   1.3730309860000|\n",
      "+-----+------------------+\n",
      "\n"
     ]
    },
    {
     "name": "stderr",
     "output_type": "stream",
     "text": [
      "                                                                                \r"
     ]
    }
   ],
   "source": [
    "df_year.groupBy('years').avg('gasoline_95E5').show()"
   ]
  },
  {
   "cell_type": "code",
   "execution_count": 91,
   "id": "b980877b",
   "metadata": {},
   "outputs": [
    {
     "data": {
      "text/plain": [
       "pyspark.sql.dataframe.DataFrame"
      ]
     },
     "execution_count": 91,
     "metadata": {},
     "output_type": "execute_result"
    }
   ],
   "source": [
    "diesel_avg = df_2020_gas.groupBy('date').avg('diesel_A').sort('date')\n",
    "\n",
    "type(diesel_avg)"
   ]
  },
  {
   "cell_type": "code",
   "execution_count": 95,
   "id": "ac20f627",
   "metadata": {},
   "outputs": [
    {
     "name": "stderr",
     "output_type": "stream",
     "text": [
      "                                                                                \r"
     ]
    },
    {
     "data": {
      "text/plain": [
       "pandas.core.frame.DataFrame"
      ]
     },
     "execution_count": 95,
     "metadata": {},
     "output_type": "execute_result"
    }
   ],
   "source": [
    "diesel_avg2 = diesel_avg.toPandas()\n",
    "\n",
    "type(diesel_avg2)"
   ]
  },
  {
   "cell_type": "code",
   "execution_count": 96,
   "id": "36e341c6",
   "metadata": {},
   "outputs": [
    {
     "data": {
      "image/png": "[encoded data removed]",
      "text/plain": [
       "<Figure size 1080x360 with 1 Axes>"
      ]
     },
     "metadata": {
      "needs_background": "light"
     },
     "output_type": "display_data"
    }
   ],
   "source": [
    "# slide 18\n",
    "x = diesel_avg2[\"date\"]\n",
    "y = diesel_avg2[\"avg(diesel_A)\"].astype('float')\n",
    "f = plt.figure()\n",
    "f.set_figwidth(15)\n",
    "f.set_figheight(5)\n",
    "plt.xlabel('Date')\n",
    "plt.ylabel('Avg Diesel A Price(EUR)/Liter')\n",
    "plt.plot(x, y)\n",
    "plt.show()"
   ]
  },
  {
   "cell_type": "code",
   "execution_count": 92,
   "id": "7daed1da",
   "metadata": {},
   "outputs": [
    {
     "name": "stderr",
     "output_type": "stream",
     "text": [
      "                                                                                \r"
     ]
    }
   ],
   "source": [
    "gas_avg = df_2020_gas.groupBy('date').avg('gasoline_95E5').sort('date')\n",
    "\n",
    "gas_avg2 = gas_avg.toPandas()"
   ]
  },
  {
   "cell_type": "code",
   "execution_count": 94,
   "id": "97c73d93",
   "metadata": {},
   "outputs": [
    {
     "data": {
      "image/png": "[encoded data removed]",
      "text/plain": [
       "<Figure size 1080x360 with 1 Axes>"
      ]
     },
     "metadata": {
      "needs_background": "light"
     },
     "output_type": "display_data"
    }
   ],
   "source": [
    "# slide 19\n",
    "import matplotlib.pyplot as plt\n",
    "x = gas_avg2[\"date\"]\n",
    "y = gas_avg2[\"avg(gasoline_95E5)\"].astype('float')\n",
    "f = plt.figure()\n",
    "f.set_figwidth(15)\n",
    "f.set_figheight(5)\n",
    "plt.xlabel('Date')\n",
    "plt.ylabel('Avg Gas95_E5 Price(EUR)/Liter')\n",
    "plt.plot(x, y)\n",
    "plt.show()"
   ]
  },
  {
   "cell_type": "code",
   "execution_count": 21,
   "id": "1343735c",
   "metadata": {},
   "outputs": [],
   "source": [
    "gasdf = gasdf.filter((F.col('date') >= '2022-01-01'))"
   ]
  },
  {
   "cell_type": "code",
   "execution_count": 22,
   "id": "efab232a",
   "metadata": {},
   "outputs": [],
   "source": [
    "gasdf.registerTempTable(\"my_table\")"
   ]
  },
  {
   "cell_type": "code",
   "execution_count": 23,
   "id": "7dae5b29",
   "metadata": {},
   "outputs": [
    {
     "name": "stderr",
     "output_type": "stream",
     "text": [
      "[Stage 19:====================================================>   (16 + 1) / 17]\r"
     ]
    },
    {
     "name": "stdout",
     "output_type": "stream",
     "text": [
      "+--------------------------+\n",
      "|count(DISTINCT station_id)|\n",
      "+--------------------------+\n",
      "|                     10580|\n",
      "+--------------------------+\n",
      "\n"
     ]
    },
    {
     "name": "stderr",
     "output_type": "stream",
     "text": [
      "                                                                                \r"
     ]
    }
   ],
   "source": [
    "spark.sql(\"\"\"\n",
    "SELECT count(distinct(station_id))\n",
    "FROM my_table\n",
    "WHERE diesel_A > 0.1 and gasoline_95E5 > 0.1\n",
    "\"\"\").show()"
   ]
  },
  {
   "cell_type": "code",
   "execution_count": 24,
   "id": "22baf266",
   "metadata": {},
   "outputs": [],
   "source": [
    "top3_distributors ={}\n",
    "top3_distributors_percentage ={}"
   ]
  },
  {
   "cell_type": "code",
   "execution_count": 29,
   "id": "8060c209",
   "metadata": {},
   "outputs": [
    {
     "name": "stderr",
     "output_type": "stream",
     "text": [
      "                                                                                \r"
     ]
    }
   ],
   "source": [
    "#1 DISTRIBUTOR \n",
    "repsol = spark.sql(\"\"\"\n",
    "SELECT count(distinct(station_id))\n",
    "FROM my_table\n",
    "WHERE UPPER(name) LIKE '%REPSOL%'\n",
    "\"\"\").collect()[0][0]"
   ]
  },
  {
   "cell_type": "code",
   "execution_count": 30,
   "id": "5355ceb9",
   "metadata": {},
   "outputs": [
    {
     "name": "stderr",
     "output_type": "stream",
     "text": [
      "                                                                                \r"
     ]
    }
   ],
   "source": [
    "#2 DISTRIBUTOR \n",
    "cepsa = spark.sql(\"\"\"\n",
    "SELECT count(distinct(station_id))\n",
    "FROM my_table\n",
    "WHERE UPPER(name) LIKE '%CEPSA%'\n",
    "\"\"\").collect()[0][0]"
   ]
  },
  {
   "cell_type": "code",
   "execution_count": 31,
   "id": "e2d5e040",
   "metadata": {},
   "outputs": [
    {
     "name": "stderr",
     "output_type": "stream",
     "text": [
      "                                                                                \r"
     ]
    }
   ],
   "source": [
    "#3 DISTRIBUTOR \n",
    "bp = spark.sql(\"\"\"\n",
    "SELECT count(distinct(station_id))\n",
    "FROM my_table\n",
    "WHERE UPPER(name) LIKE '%BP%'\n",
    "\"\"\").collect()[0][0]"
   ]
  },
  {
   "cell_type": "code",
   "execution_count": 32,
   "id": "d5e4154d",
   "metadata": {},
   "outputs": [
    {
     "name": "stderr",
     "output_type": "stream",
     "text": [
      "[Stage 55:====================================================>   (16 + 1) / 17]\r"
     ]
    },
    {
     "name": "stdout",
     "output_type": "stream",
     "text": [
      "+--------------------------+\n",
      "|count(DISTINCT station_id)|\n",
      "+--------------------------+\n",
      "|                       538|\n",
      "+--------------------------+\n",
      "\n"
     ]
    },
    {
     "name": "stderr",
     "output_type": "stream",
     "text": [
      "                                                                                \r"
     ]
    }
   ],
   "source": [
    "#4 DISTRIBUTOR\n",
    "\n",
    "spark.sql(\"\"\"\n",
    "SELECT count(distinct(station_id))\n",
    "FROM my_table\n",
    "WHERE UPPER(name) LIKE '%GALP%'\n",
    "\"\"\").show()"
   ]
  },
  {
   "cell_type": "code",
   "execution_count": 33,
   "id": "d97789d1",
   "metadata": {},
   "outputs": [
    {
     "name": "stderr",
     "output_type": "stream",
     "text": [
      "                                                                                \r"
     ]
    }
   ],
   "source": [
    "#TOTAL DISTRIBUTION\n",
    "\n",
    "total = spark.sql(\"\"\"\n",
    "SELECT count(distinct(station_id))\n",
    "FROM my_table\n",
    "\"\"\").collect()[0][0]"
   ]
  },
  {
   "cell_type": "code",
   "execution_count": 34,
   "id": "c3778a4d",
   "metadata": {},
   "outputs": [
    {
     "data": {
      "text/plain": [
       "{'repsol': 2819, 'cepsa': 1419, 'bp': 754}"
      ]
     },
     "execution_count": 34,
     "metadata": {},
     "output_type": "execute_result"
    }
   ],
   "source": [
    "top3_distributors.update({'repsol':repsol})\n",
    "\n",
    "top3_distributors.update({'cepsa':cepsa})\n",
    "\n",
    "top3_distributors.update({'bp':bp})\n",
    "\n",
    "top3_distributors"
   ]
  },
  {
   "cell_type": "code",
   "execution_count": 35,
   "id": "0d2fc9a2",
   "metadata": {},
   "outputs": [
    {
     "data": {
      "text/plain": [
       "{'repsol': 0.2524628336020061,\n",
       " 'cepsa': 0.12708221386351423,\n",
       " 'bp': 0.06752641948773061}"
      ]
     },
     "execution_count": 35,
     "metadata": {},
     "output_type": "execute_result"
    }
   ],
   "source": [
    "top3_distributors_percentage.update({'repsol':repsol/total})\n",
    "\n",
    "top3_distributors_percentage.update({'cepsa':cepsa/total})\n",
    "\n",
    "top3_distributors_percentage.update({'bp':bp/total})\n",
    "\n",
    "top3_distributors_percentage"
   ]
  },
  {
   "cell_type": "code",
   "execution_count": 36,
   "id": "6448c8e2",
   "metadata": {},
   "outputs": [
    {
     "name": "stdout",
     "output_type": "stream",
     "text": [
      "The percentages shares of the three biggest gas distributors are respectively:\n",
      "\n",
      "           - 25% for Repsol\n",
      "           - 13% for Cepsa\n",
      "           - 7% for BP\n",
      "           \n",
      "            The sum the other providers accounts for 55% of the total transactions\n"
     ]
    },
    {
     "data": {
      "image/png": "[encoded data removed]",
      "text/plain": [
       "<Figure size 432x288 with 1 Axes>"
      ]
     },
     "metadata": {},
     "output_type": "display_data"
    }
   ],
   "source": [
    "#slide 20\n",
    "piechart = pd.DataFrame({'Percentages':[0.25,0.13,0.07,0.55]},\n",
    "                        index=['Repsol','Cepsa','BP','Other providers'])\n",
    "\n",
    "piechart.Percentages.plot.pie()\n",
    "print(f\"\"\"The percentages shares of the three biggest gas distributors are respectively:\n",
    "\n",
    "           - 25% for Repsol\n",
    "           - 13% for Cepsa\n",
    "           - 7% for BP\n",
    "           \n",
    "            The sum the other providers accounts for 55% of the total transactions\"\"\")"
   ]
  },
  {
   "cell_type": "code",
   "execution_count": 48,
   "id": "760cfc11",
   "metadata": {},
   "outputs": [],
   "source": [
    "# creating macro areas\n",
    "df_area = gasdf.withColumn(\"Area\", \n",
    "            F.when(gasdf.region_name==\"Comunidad Valenciana\", \"Mediterranean\")\\\n",
    ".when(gasdf.region_name==\"Madrid\", \"Center\")\\\n",
    ".when(gasdf.region_name==\"Rioja (La)\", \"Center\")\\\n",
    ".when(gasdf.region_name==\"Asturias\", \"North\")\\\n",
    ".when(gasdf.region_name==\"Aragón\", \"North\")\\\n",
    ".when(gasdf.region_name==\"Cantabria\", \"North\")\\\n",
    ".when(gasdf.region_name==\"Extremadura\", \"Center\")\\\n",
    ".when(gasdf.region_name==\"Galicia\", \"North\")\\\n",
    ".when(gasdf.region_name==\"Murcia\", \"Mediterranean\")\\\n",
    ".when(gasdf.region_name==\"Ceuta\", \"Other\")\\\n",
    ".when(gasdf.region_name==\"Andalucia\", \"Mediterranean\")\\\n",
    ".when(gasdf.region_name==\"Canarias\", \"Other\")\\\n",
    ".when(gasdf.region_name==\"Cataluña\", \"Mediterranean\")\\\n",
    ".when(gasdf.region_name==\"Navarra\", \"North\")\\\n",
    ".when(gasdf.region_name==\"Castilla y León\", \"Center\")\\\n",
    ".when(gasdf.region_name==\"País Vasco\", \"North\")\\\n",
    ".when(gasdf.region_name==\"Baleares\", \"Other\")\\\n",
    ".when(gasdf.region_name==\"Castilla la Mancha\", \"Center\")\\\n",
    ".when(gasdf.region_name==\"Melilla\", \"Other\"))"
   ]
  },
  {
   "cell_type": "code",
   "execution_count": 50,
   "id": "138ad5aa",
   "metadata": {},
   "outputs": [],
   "source": [
    "df_area.registerTempTable(\"my_table2\")"
   ]
  },
  {
   "cell_type": "code",
   "execution_count": 57,
   "id": "a19ce79a",
   "metadata": {},
   "outputs": [
    {
     "name": "stderr",
     "output_type": "stream",
     "text": [
      "[Stage 69:====================================================>   (16 + 1) / 17]\r"
     ]
    },
    {
     "name": "stdout",
     "output_type": "stream",
     "text": [
      "+-------------+-----------------+\n",
      "|         Area|count(station_id)|\n",
      "+-------------+-----------------+\n",
      "|       Center|             3056|\n",
      "|Mediterranean|             5304|\n",
      "|        North|             2119|\n",
      "|        Other|              687|\n",
      "+-------------+-----------------+\n",
      "\n"
     ]
    },
    {
     "name": "stderr",
     "output_type": "stream",
     "text": [
      "                                                                                \r"
     ]
    }
   ],
   "source": [
    "df_area.groupBy(\"Area\").agg(F.countDistinct(\"station_id\")).orderBy(\"Area\").show()"
   ]
  },
  {
   "cell_type": "code",
   "execution_count": 58,
   "id": "47dfc736",
   "metadata": {},
   "outputs": [],
   "source": [
    "df_repsol = df_area.withColumn(\"Repsol\", \n",
    "            F.when((df_area.name==\"REPSOL\") | (df_area.name==\"repsol\") | (df_area.name==\"Repsol\"),1)\\\n",
    "            .otherwise(0))"
   ]
  },
  {
   "cell_type": "code",
   "execution_count": 59,
   "id": "6df66fcc",
   "metadata": {},
   "outputs": [
    {
     "name": "stderr",
     "output_type": "stream",
     "text": [
      "[Stage 75:====================================================>   (16 + 1) / 17]\r"
     ]
    },
    {
     "name": "stdout",
     "output_type": "stream",
     "text": [
      "+-------------+------+-----------------+\n",
      "|         Area|Repsol|count(station_id)|\n",
      "+-------------+------+-----------------+\n",
      "|       Center|     1|              883|\n",
      "|       Center|     0|             2173|\n",
      "|Mediterranean|     0|             4133|\n",
      "|Mediterranean|     1|             1171|\n",
      "|        North|     0|             1547|\n",
      "|        North|     1|              572|\n",
      "|        Other|     0|              558|\n",
      "|        Other|     1|              129|\n",
      "+-------------+------+-----------------+\n",
      "\n"
     ]
    },
    {
     "name": "stderr",
     "output_type": "stream",
     "text": [
      "                                                                                \r"
     ]
    }
   ],
   "source": [
    "df_repsol.groupBy(\"Area\", \"Repsol\").agg(F.countDistinct(\"station_id\")).orderBy(\"Area\").show()"
   ]
  },
  {
   "cell_type": "code",
   "execution_count": 67,
   "id": "c36f5115",
   "metadata": {},
   "outputs": [
    {
     "data": {
      "text/plain": [
       "0.24673114812824645"
      ]
     },
     "execution_count": 67,
     "metadata": {},
     "output_type": "execute_result"
    }
   ],
   "source": [
    "total_stations_Center = 3056\n",
    "total_stations_Mediterranean = 5304\n",
    "total_stations_North = 2119\n",
    "total_stations_Other = 687\n",
    "total_stations = total_stations_Center + total_stations_Mediterranean + total_stations_North+ total_stations_Other\n",
    "\n",
    "Repsol_Center = 883\n",
    "Repsol_Mediterranean = 1171\n",
    "Repsol_North = 572\n",
    "Repsol_Other = 129\n",
    "Repsol_Total = Repsol_Center + Repsol_Mediterranean + Repsol_North + Repsol_Other\n",
    "\n",
    "repsol_share = Repsol_Total/total_stations\n",
    "repsol_share"
   ]
  },
  {
   "cell_type": "code",
   "execution_count": 63,
   "id": "0e4d93a8",
   "metadata": {},
   "outputs": [
    {
     "data": {
      "text/plain": [
       "{'Center': 0.28893979057591623,\n",
       " 'Mediterranean': 0.22077677224736048,\n",
       " 'North': 0.26993865030674846,\n",
       " 'Other': 0.18777292576419213}"
      ]
     },
     "execution_count": 63,
     "metadata": {},
     "output_type": "execute_result"
    }
   ],
   "source": [
    "repsol_percentage = {}\n",
    "\n",
    "repsol_percentage.update({'Center':Repsol_Center/total_stations_Center})\n",
    "\n",
    "repsol_percentage.update({'Mediterranean':Repsol_Mediterranean/total_stations_Mediterranean})\n",
    "\n",
    "repsol_percentage.update({'North':Repsol_North/total_stations_North})\n",
    "\n",
    "repsol_percentage.update({'Other':Repsol_Other/total_stations_Other})\n",
    "\n",
    "repsol_percentage"
   ]
  },
  {
   "cell_type": "code",
   "execution_count": 70,
   "id": "afc208e4",
   "metadata": {},
   "outputs": [
    {
     "data": {
      "image/png": "[encoded data removed]",
      "text/plain": [
       "<Figure size 432x288 with 1 Axes>"
      ]
     },
     "metadata": {
      "needs_background": "light"
     },
     "output_type": "display_data"
    }
   ],
   "source": [
    "#slide 21\n",
    "\n",
    "import matplotlib.pyplot as plt\n",
    "\n",
    "\n",
    "labels = ['North', 'Mediterranean', 'Center', 'Other']\n",
    "Repsol_stations = [29, 22, 27, 19]\n",
    "Other_stations = [71, 78, 73, 81]\n",
    "width = 0.35       # the width of the bars: can also be len(x) sequence\n",
    "\n",
    "fig, ax = plt.subplots()\n",
    "\n",
    "\n",
    "ax.bar(labels, Repsol_stations, width, color = \"orange\", label='Repsol')\n",
    "ax.bar(labels, Other_stations, width, color = \"grey\", bottom=Repsol_stations,label='Other providers')\n",
    "\n",
    "ax.set_ylabel('Percentage of total stations')\n",
    "ax.set_title('% Repsol stations per area')\n",
    "ax.legend()\n",
    "\n",
    "plt.show()"
   ]
  },
  {
   "cell_type": "code",
   "execution_count": 71,
   "id": "eb2c3866",
   "metadata": {},
   "outputs": [],
   "source": [
    "df_subset_geo = df_repsol.where(F.col(\"Area\").isin([\"North\",\"Mediterranean\",\"Center\"]))\n",
    "\n",
    "df_subset_geo_year = df_subset_geo.filter((F.col(\"date\") >= \"2022-01-01\"))"
   ]
  },
  {
   "cell_type": "code",
   "execution_count": 82,
   "id": "6f04dfda",
   "metadata": {},
   "outputs": [
    {
     "name": "stderr",
     "output_type": "stream",
     "text": [
      "[Stage 90:=================================================>      (15 + 2) / 17]\r"
     ]
    },
    {
     "name": "stdout",
     "output_type": "stream",
     "text": [
      "+----------+--------------------+--------------------+--------------------+-------------+-----------------------+\n",
      "|station_id|                town|       province_name|         region_name|         Area|average 2022 gas prices|\n",
      "+----------+--------------------+--------------------+--------------------+-------------+-----------------------+\n",
      "|     12703|MONTEMAYOR       ...|             CÓRDOBA|           Andalucia|Mediterranean|        1.2590000000000|\n",
      "|     10356|NAVALMORAL DE LA ...|             CÁCERES|         Extremadura|       Center|        1.2890000000000|\n",
      "|      5844|BADAJOZ          ...|             BADAJOZ|         Extremadura|       Center|        1.2890000000000|\n",
      "|      1920|ESTIVELLA        ...| VALENCIA / VALÈNCIA|Comunidad Valenciana|Mediterranean|        1.2890000000000|\n",
      "|     11184|RIBESALBES       ...|CASTELLÓN / CASTELLÓ|Comunidad Valenciana|Mediterranean|        1.2900000000000|\n",
      "|     14742|GIJON            ...|            ASTURIAS|            Asturias|        North|        1.2934823530000|\n",
      "|      9824|TORREVIEJA       ...|            ALICANTE|Comunidad Valenciana|Mediterranean|        1.3670000000000|\n",
      "|     11222|TORREVIEJA       ...|            ALICANTE|Comunidad Valenciana|Mediterranean|        1.3759230770000|\n",
      "|     10715|NAVALVILLAR DE PE...|             BADAJOZ|         Extremadura|       Center|        1.3790000000000|\n",
      "|      4901|HORCAJO DE LOS MO...|         CIUDAD REAL|  Castilla la Mancha|       Center|        1.3990000000000|\n",
      "+----------+--------------------+--------------------+--------------------+-------------+-----------------------+\n",
      "only showing top 10 rows\n",
      "\n"
     ]
    },
    {
     "name": "stderr",
     "output_type": "stream",
     "text": [
      "                                                                                \r"
     ]
    }
   ],
   "source": [
    "#slide 22\n",
    "\n",
    "df_to_sort = df_subset_geo_year.groupBy(\"station_id\", \"town\", \"province_name\", \"region_name\", \"Area\").agg(F.avg(\"gasoline_95E5\").alias(\"average 2022 gas prices\")).dropna()\n",
    "\n",
    "df_to_sort = df_to_sort.orderBy(df_to_sort[\"average 2022 gas prices\"].asc())\n",
    "\n",
    "df_to_sort.show(10)"
   ]
  },
  {
   "cell_type": "code",
   "execution_count": 77,
   "id": "39f42851",
   "metadata": {},
   "outputs": [
    {
     "name": "stderr",
     "output_type": "stream",
     "text": [
      "[Stage 84:====================================================>   (16 + 1) / 17]\r"
     ]
    },
    {
     "name": "stdout",
     "output_type": "stream",
     "text": [
      "+----------+--------------------+--------------------+--------------------+-------------+--------------------------+\n",
      "|station_id|                town|       province_name|         region_name|         Area|average 2022 diesel prices|\n",
      "+----------+--------------------+--------------------+--------------------+-------------+--------------------------+\n",
      "|     10715|NAVALVILLAR DE PE...|             BADAJOZ|         Extremadura|       Center|           1.0390000000000|\n",
      "|      1920|ESTIVELLA        ...| VALENCIA / VALÈNCIA|Comunidad Valenciana|Mediterranean|           1.1090000000000|\n",
      "|      3848|VALENCIA         ...| VALENCIA / VALÈNCIA|Comunidad Valenciana|Mediterranean|           1.1090000000000|\n",
      "|     12703|MONTEMAYOR       ...|             CÓRDOBA|           Andalucia|Mediterranean|           1.1090000000000|\n",
      "|      5844|BADAJOZ          ...|             BADAJOZ|         Extremadura|       Center|           1.1390000000000|\n",
      "|      9824|TORREVIEJA       ...|            ALICANTE|Comunidad Valenciana|Mediterranean|           1.1870000000000|\n",
      "|     11184|RIBESALBES       ...|CASTELLÓN / CASTELLÓ|Comunidad Valenciana|Mediterranean|           1.2150000000000|\n",
      "|      8842|MIGUEL ESTEBAN   ...|              TOLEDO|  Castilla la Mancha|       Center|           1.2400000000000|\n",
      "|      4901|HORCAJO DE LOS MO...|         CIUDAD REAL|  Castilla la Mancha|       Center|           1.2490000000000|\n",
      "|     14842|BARBATE          ...|               CÁDIZ|           Andalucia|Mediterranean|           1.2490000000000|\n",
      "+----------+--------------------+--------------------+--------------------+-------------+--------------------------+\n",
      "only showing top 10 rows\n",
      "\n"
     ]
    },
    {
     "name": "stderr",
     "output_type": "stream",
     "text": [
      "                                                                                \r"
     ]
    }
   ],
   "source": [
    "#slide 23\n",
    "df_to_sort_diesel = df_subset_geo_year.groupBy(\"station_id\", \"town\", \"province_name\", \"region_name\", \"Area\").agg(F.avg(\"diesel_A\").alias(\"average 2022 diesel prices\")).dropna()\n",
    "\n",
    "df_to_sort_diesel = df_to_sort_diesel.orderBy(df_to_sort_diesel[\"average 2022 diesel prices\"].asc())\n",
    "\n",
    "df_to_sort_diesel.show(10)"
   ]
  },
  {
   "cell_type": "code",
   "execution_count": 83,
   "id": "8467db5b",
   "metadata": {},
   "outputs": [
    {
     "name": "stderr",
     "output_type": "stream",
     "text": [
      "[Stage 93:====================================================>   (16 + 1) / 17]\r"
     ]
    },
    {
     "name": "stdout",
     "output_type": "stream",
     "text": [
      "+----------+--------------------+-------------------+--------------------+-------------+-----------------------+\n",
      "|station_id|                town|      province_name|         region_name|         Area|average 2022 gas prices|\n",
      "+----------+--------------------+-------------------+--------------------+-------------+-----------------------+\n",
      "|     15522|ALQUEZAR         ...|             HUESCA|              Aragón|        North|        2.1300000000000|\n",
      "|     15541|SANTANDER        ...|          CANTABRIA|           Cantabria|        North|        2.1090000000000|\n",
      "|     15247|VALDEALGORFA     ...|             TERUEL|              Aragón|        North|        2.0900000000000|\n",
      "|     15406|ALHAMA DE MURCIA ...|             MURCIA|              Murcia|Mediterranean|        2.0755555560000|\n",
      "|     15515|MONFARRACINOS    ...|             ZAMORA|     Castilla y León|       Center|        2.0630000000000|\n",
      "|     15481|CASA PUERTO      ...|             MURCIA|              Murcia|Mediterranean|        2.0390000000000|\n",
      "|     10498|LORCA            ...|             MURCIA|              Murcia|Mediterranean|        2.0290000000000|\n",
      "|     15531|TORRES DE ALBANCH...|               JAÉN|           Andalucia|Mediterranean|        2.0245000000000|\n",
      "|     15217|VALENCIA         ...|VALENCIA / VALÈNCIA|Comunidad Valenciana|Mediterranean|        2.0163043480000|\n",
      "|      6488|BAUL             ...|            GRANADA|           Andalucia|Mediterranean|        2.0119350650000|\n",
      "+----------+--------------------+-------------------+--------------------+-------------+-----------------------+\n",
      "only showing top 10 rows\n",
      "\n"
     ]
    },
    {
     "name": "stderr",
     "output_type": "stream",
     "text": [
      "                                                                                \r"
     ]
    }
   ],
   "source": [
    "#slide 24\n",
    "df_to_sort = df_subset_geo_year.groupBy(\"station_id\", \"town\", \"province_name\", \"region_name\", \"Area\").agg(F.avg(\"gasoline_95E5\").alias(\"average 2022 gas prices\")).dropna()\n",
    "\n",
    "df_to_sort = df_to_sort.orderBy(df_to_sort[\"average 2022 gas prices\"].desc())\n",
    "\n",
    "df_to_sort.show(10)"
   ]
  },
  {
   "cell_type": "code",
   "execution_count": 80,
   "id": "385a033a",
   "metadata": {},
   "outputs": [
    {
     "name": "stderr",
     "output_type": "stream",
     "text": [
      "[Stage 87:====================================================>   (16 + 1) / 17]\r"
     ]
    },
    {
     "name": "stdout",
     "output_type": "stream",
     "text": [
      "+----------+--------------------+-------------+------------------+-------------+--------------------------+\n",
      "|station_id|                town|province_name|       region_name|         Area|average 2022 diesel prices|\n",
      "+----------+--------------------+-------------+------------------+-------------+--------------------------+\n",
      "|     15247|VALDEALGORFA     ...|       TERUEL|            Aragón|        North|           2.0900000000000|\n",
      "|     15531|TORRES DE ALBANCH...|         JAÉN|         Andalucia|Mediterranean|           1.9825000000000|\n",
      "|     15492|MADRID           ...|       MADRID|            Madrid|       Center|           1.9824210530000|\n",
      "|      3369|AMETLLA DE MAR (L...|    TARRAGONA|          Cataluña|Mediterranean|           1.9796296300000|\n",
      "|     15447|VALDEPEÑAS       ...|  CIUDAD REAL|Castilla la Mancha|       Center|           1.9778888890000|\n",
      "|     15323|VALDEPEÑAS       ...|  CIUDAD REAL|Castilla la Mancha|       Center|           1.9778888890000|\n",
      "|     15522|ALQUEZAR         ...|       HUESCA|            Aragón|        North|           1.9700000000000|\n",
      "|     15406|ALHAMA DE MURCIA ...|       MURCIA|            Murcia|Mediterranean|           1.9670740740000|\n",
      "|     15355|LEPE             ...|       HUELVA|         Andalucia|Mediterranean|           1.9650701750000|\n",
      "|     15471|SANT MARTI D'ALBA...|    BARCELONA|          Cataluña|Mediterranean|           1.9627500000000|\n",
      "+----------+--------------------+-------------+------------------+-------------+--------------------------+\n",
      "only showing top 10 rows\n",
      "\n"
     ]
    },
    {
     "name": "stderr",
     "output_type": "stream",
     "text": [
      "                                                                                \r"
     ]
    }
   ],
   "source": [
    "#slide 25\n",
    "df_to_sort_diesel = df_subset_geo_year.groupBy(\"station_id\", \"town\", \"province_name\", \"region_name\", \"Area\").agg(F.avg(\"diesel_A\").alias(\"average 2022 diesel prices\")).dropna()\n",
    "\n",
    "df_to_sort_diesel = df_to_sort_diesel.orderBy(df_to_sort_diesel[\"average 2022 diesel prices\"].desc())\n",
    "\n",
    "df_to_sort_diesel.show(10)"
   ]
  }
 ],
 "metadata": {
  "kernelspec": {
   "display_name": "Python 3 (ipykernel)",
   "language": "python",
   "name": "python3"
  },
  "language_info": {
   "codemirror_mode": {
    "name": "ipython",
    "version": 3
   },
   "file_extension": ".py",
   "mimetype": "text/x-python",
   "name": "python",
   "nbconvert_exporter": "python",
   "pygments_lexer": "ipython3",
   "version": "3.9.2"
  }
 },
 "nbformat": 4,
 "nbformat_minor": 5
}
